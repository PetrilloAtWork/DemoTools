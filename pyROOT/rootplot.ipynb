{
 "cells": [
  {
   "cell_type": "code",
   "execution_count": 1,
   "metadata": {},
   "outputs": [
    {
     "name": "stdout",
     "output_type": "stream",
     "text": [
      "Welcome to JupyROOT 6.12/04\n"
     ]
    }
   ],
   "source": [
    "import ROOT\n",
    "import matplotlib as mpl\n",
    "mpl.use('TkAgg')\n",
    "%matplotlib inline\n",
    "import rootplot.root2matplotlib as r2m\n",
    "from random import gauss"
   ]
  },
  {
   "cell_type": "code",
   "execution_count": 2,
   "metadata": {},
   "outputs": [
    {
     "data": {
      "image/png": "[encoded data removed]",
      "text/plain": [
       "<Figure size 576x432 with 1 Axes>"
      ]
     },
     "metadata": {},
     "output_type": "display_data"
    }
   ],
   "source": [
    "th1f = ROOT.TH1F(\"hpx\", \"Distribution of p_{x};p_{x};Events\", 40, -4, 4)\n",
    "for i in range(25000):\n",
    "    th1f.Fill(gauss(0., 1.))\n",
    "# Make a figure with width 6 inches and height 4 inches\n",
    "mpl.pyplot.figure(1, (8, 6))\n",
    "# Create an axes instance\n",
    "ax1 = mpl.pyplot.axes()\n",
    "hist = r2m.Hist(th1f)\n",
    "# Plot a bar chart in red\n",
    "hist.bar(color='r')\n",
    "hist.show_titles()\n",
    "\n",
    "# mpl.pyplot.savefig('first')\n",
    "mpl.pyplot.show()"
   ]
  },
  {
   "cell_type": "code",
   "execution_count": null,
   "metadata": {},
   "outputs": [],
   "source": []
  }
 ],
 "metadata": {
  "kernelspec": {
   "display_name": "Python 2",
   "language": "python",
   "name": "python2"
  },
  "language_info": {
   "codemirror_mode": {
    "name": "ipython",
    "version": 2
   },
   "file_extension": ".py",
   "mimetype": "text/x-python",
   "name": "python",
   "nbconvert_exporter": "python",
   "pygments_lexer": "ipython2",
   "version": "2.7.14"
  }
 },
 "nbformat": 4,
 "nbformat_minor": 2
}
